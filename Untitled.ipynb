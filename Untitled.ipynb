{
 "cells": [
  {
   "cell_type": "code",
   "execution_count": 85,
   "metadata": {},
   "outputs": [],
   "source": [
    "%matplotlib inline\n",
    "\n",
    "import pandas as pd\n",
    "import numpy as np\n",
    "import matplotlib.pyplot as plt\n",
    "import seaborn as sns"
   ]
  },
  {
   "cell_type": "code",
   "execution_count": 86,
   "metadata": {},
   "outputs": [],
   "source": [
    "df = pd.read_csv('outputs/structured_data.csv', index_col=0)"
   ]
  },
  {
   "cell_type": "code",
   "execution_count": 87,
   "metadata": {},
   "outputs": [
    {
     "data": {
      "text/html": [
       "<div>\n",
       "<style scoped>\n",
       "    .dataframe tbody tr th:only-of-type {\n",
       "        vertical-align: middle;\n",
       "    }\n",
       "\n",
       "    .dataframe tbody tr th {\n",
       "        vertical-align: top;\n",
       "    }\n",
       "\n",
       "    .dataframe thead th {\n",
       "        text-align: right;\n",
       "    }\n",
       "</style>\n",
       "<table border=\"1\" class=\"dataframe\">\n",
       "  <thead>\n",
       "    <tr style=\"text-align: right;\">\n",
       "      <th></th>\n",
       "      <th>setor</th>\n",
       "      <th>matricula</th>\n",
       "      <th>cargo</th>\n",
       "      <th>funcao</th>\n",
       "      <th>salario</th>\n",
       "      <th>mes</th>\n",
       "    </tr>\n",
       "  </thead>\n",
       "  <tbody>\n",
       "    <tr>\n",
       "      <th>0.0</th>\n",
       "      <td>PRESIDÊNCIA</td>\n",
       "      <td>40446</td>\n",
       "      <td>VEREADOR</td>\n",
       "      <td>VEREADOR</td>\n",
       "      <td>11534.82</td>\n",
       "      <td>1</td>\n",
       "    </tr>\n",
       "    <tr>\n",
       "      <th>1.0</th>\n",
       "      <td>GABINETE DA PRESIDÊNCIA</td>\n",
       "      <td>24547</td>\n",
       "      <td>CHEFE DE GABINETE DA PRESIDÊNCIA</td>\n",
       "      <td>CHEFE DE GABINETE DA PRESIDÊNCIA</td>\n",
       "      <td>17944.99</td>\n",
       "      <td>1</td>\n",
       "    </tr>\n",
       "    <tr>\n",
       "      <th>2.0</th>\n",
       "      <td>GABINETE DA PRESIDÊNCIA</td>\n",
       "      <td>27638</td>\n",
       "      <td>CHEFE DE CERIMONIAL</td>\n",
       "      <td>CHEFE DE CERIMONIAL</td>\n",
       "      <td>16058.65</td>\n",
       "      <td>1</td>\n",
       "    </tr>\n",
       "    <tr>\n",
       "      <th>3.0</th>\n",
       "      <td>GABINETE DA PRESIDÊNCIA</td>\n",
       "      <td>23180</td>\n",
       "      <td>ASSISTENTE LEGISLATIVO I</td>\n",
       "      <td>NaN</td>\n",
       "      <td>-316.66</td>\n",
       "      <td>1</td>\n",
       "    </tr>\n",
       "    <tr>\n",
       "      <th>4.0</th>\n",
       "      <td>GABINETE DA PRESIDÊNCIA</td>\n",
       "      <td>23636</td>\n",
       "      <td>ASSISTENTE LEGISLATIVO III</td>\n",
       "      <td>NaN</td>\n",
       "      <td>5868.13</td>\n",
       "      <td>1</td>\n",
       "    </tr>\n",
       "  </tbody>\n",
       "</table>\n",
       "</div>"
      ],
      "text/plain": [
       "                       setor matricula                             cargo  \\\n",
       "0.0              PRESIDÊNCIA     40446                          VEREADOR   \n",
       "1.0  GABINETE DA PRESIDÊNCIA     24547  CHEFE DE GABINETE DA PRESIDÊNCIA   \n",
       "2.0  GABINETE DA PRESIDÊNCIA     27638               CHEFE DE CERIMONIAL   \n",
       "3.0  GABINETE DA PRESIDÊNCIA     23180          ASSISTENTE LEGISLATIVO I   \n",
       "4.0  GABINETE DA PRESIDÊNCIA     23636        ASSISTENTE LEGISLATIVO III   \n",
       "\n",
       "                               funcao   salario mes  \n",
       "0.0                          VEREADOR  11534.82   1  \n",
       "1.0  CHEFE DE GABINETE DA PRESIDÊNCIA  17944.99   1  \n",
       "2.0               CHEFE DE CERIMONIAL  16058.65   1  \n",
       "3.0                               NaN   -316.66   1  \n",
       "4.0                               NaN   5868.13   1  "
      ]
     },
     "execution_count": 87,
     "metadata": {},
     "output_type": "execute_result"
    }
   ],
   "source": [
    "df.head()"
   ]
  },
  {
   "cell_type": "code",
   "execution_count": 88,
   "metadata": {},
   "outputs": [
    {
     "data": {
      "text/plain": [
       "GUARDA CIVIL METROPOLITANA                                                                   997\n",
       "SGA-31 - EQUIPE DE GARAGEM E FROTA                                                           421\n",
       "SGA-1 - SECRETARIA DE RECURSOS HUMANOS                                                       407\n",
       "GABINETE DA PRESIDÊNCIA                                                                      331\n",
       "SGA-33 - EQUIPE DE ZELADORIA                                                                 299\n",
       "SGP-41 - EQUIPE DE TAQUIGRAFIA E REVISÃO                                                     283\n",
       "SGA-35 - EQUIPE DE GESTÃO DE SERVIÇOS II - COPA E LIMPEZA                                    279\n",
       "40º GABINETE DE VEREADOR                                                                     267\n",
       "54º GABINETE DE VEREADOR                                                                     263\n",
       "47º GABINETE DE VEREADOR                                                                     261\n",
       "35º GABINETE DE VEREADOR                                                                     260\n",
       "SGA-34 - EQUIPE DE GESTÃO E SERVIÇOS I - PORTARIA, TELEFONIA E ELEVADORES                    258\n",
       "48º GABINETE DE VEREADOR                                                                     254\n",
       "27º GABINETE DE VEREADOR                                                                     252\n",
       "43º GABINETE DE VEREADOR                                                                     251\n",
       "39º GABINETE DE VEREADOR                                                                     251\n",
       "02º GABINETE DE VEREADOR                                                                     250\n",
       "55º GABINETE DE VEREADOR                                                                     249\n",
       "53º GABINETE DE VEREADOR                                                                     245\n",
       "03º GABINETE DE VEREADOR                                                                     245\n",
       "04º GABINETE DE VEREADOR                                                                     244\n",
       "46º GABINETE DE VEREADOR                                                                     244\n",
       "17º GABINETE DE VEREADOR                                                                     243\n",
       "22º GABINETE DE VEREADOR                                                                     243\n",
       "09º GABINETE DE VEREADOR                                                                     243\n",
       "49º GABINETE DE VEREADOR                                                                     242\n",
       "07º GABINETE DE VEREADOR                                                                     242\n",
       "34º GABINETE DE VEREADOR                                                                     241\n",
       "12º GABINETE DE VEREADOR                                                                     240\n",
       "44º GABINETE DE VEREADOR                                                                     239\n",
       "                                                                                            ... \n",
       "SGA-31 - EQUIPE DE GARAGEM E FROTA (02º GV) - ALFREDO ALVES CAVALCANTE                         2\n",
       "SGA-31 - EQUIPE DE GARAGEM E FROTA (41º GV) - RICARDO LUIS REIS NUNES                          2\n",
       "SGA-31 - EQUIPE DE GARAGEM E FROTA (38º GV) - RODRIGO HAYASHI GOULART                          2\n",
       "SGA-31 - EQUIPE DE GARAGEM E FROTA (17º GV) - JAIR JOSE TATTO                                  2\n",
       "SGA-31 - EQUIPE DE GARAGEM E FROTA (22º GV) - GILBERTO NASCIMENTO SILVA JUNIOR                 2\n",
       "SGA-31 - EQUIPE DE GARAGEM E FROTA (32º GV) - EDIR SALES                                       2\n",
       "SGA-31 - EQUIPE DE GARAGEM E FROTA (14º GV) - ATILIO FRANCISCO DA SILVA                        2\n",
       "SGA-31 - EQUIPE DE GARAGEM E FROTA (27º GV) - JULIANA CARDOSO                                  2\n",
       "SGA-31 - EQUIPE DE GARAGEM E FROTA (29º GV) - GILSON ALMEIDA BARRETO                           2\n",
       "SGA-31 - EQUIPE DE GARAGEM E FROTA (08º GV)                                                    2\n",
       "SGA-31 - EQUIPE DE GARAGEM E FROTA (24º GV) - MASATAKA OTA                                     2\n",
       "SGA-31 - EQUIPE DE GARAGEM E FROTA (06º GV) - MILTON FERREIRA DA SILVA                         2\n",
       "SGA-31 - EQUIPE DE GARAGEM E FROTA (51º GV) - ANIBAL DE FREITAS FILHO                          2\n",
       "SGA-31 - EQUIPE DE GARAGEM E FROTA (42º GV) - AURELIO NOMURA                                   2\n",
       "SGA-31 - EQUIPE DE GARAGEM E FROTA (04º GV) - ALESSANDRO GUEDES DOS SANTOS                     2\n",
       "SGA-31 - EQUIPE DE GARAGEM E FROTA (54º GV) - JOSE ARIVALDO RODRIGUES                          1\n",
       "SGA-31 - EQUIPE DE GARAGEM E FROTA (35º GV) - RINALDI CESAR DIGILIO                            1\n",
       "SGA-31 - EQUIPE DE GARAGEM E FROTA (01º GV) - ADRIANA ALVES RAMALHO SANTANA                    1\n",
       "SGA-31 - EQUIPE DE GARAGEM E FROTA (25º GV)                                                    1\n",
       "GABINETE DA LIDERANÇA DE REPRESENTAÇÃO PARTIDÁRIA DA REDE SUSTENTABILIDADE                     1\n",
       "SGA-31 - EQUIPE DE GARAGEM E FROTA (53º GV) - ELISEU GABRIEL DE PIERI                          1\n",
       "SGA-31 - EQUIPE DE GARAGEM E FROTA (10º GV) - CLAUDIO GOMES FONSECA                            1\n",
       "SGA-31 - EQUIPE DE GARAGEM E FROTA (13º GV) - EDUARDO MATARAZZO SUPLICY                        1\n",
       "SGA-31 - EQUIPE DE GARAGEM E FROTA (26º GV)                                                    1\n",
       "SGA-31 - EQUIPE DE GARAGEM E FROTA (25º GV) - DANIEL ANNENBERG                                 1\n",
       "SGA-31 - EQUIPE DE GARAGEM E FROTA (50º GV) - ANTONIO DONATO MADORMO                           1\n",
       "SGA-31 - EQUIPE DE GARAGEM E FROTA (53º GV)                                                    1\n",
       "SGA-31 - EQUIPE DE GARAGEM E FROTA (51º GV) - JOSE REGINALDO NAZELLO DE ALVARENGA TRIPOLI      1\n",
       "SGA-31 - EQUIPE DE GARAGEM E FROTA (34º GV)                                                    1\n",
       "SGA-31 - EQUIPE DE GARAGEM E FROTA (40º GV) - CAMILO CRISTOFARO MARTINS JUNIOR                 1\n",
       "Name: setor, Length: 233, dtype: int64"
      ]
     },
     "execution_count": 88,
     "metadata": {},
     "output_type": "execute_result"
    }
   ],
   "source": [
    "df.setor.value_counts()"
   ]
  },
  {
   "cell_type": "code",
   "execution_count": 89,
   "metadata": {},
   "outputs": [
    {
     "name": "stdout",
     "output_type": "stream",
     "text": [
      "2880\n",
      "24929\n"
     ]
    }
   ],
   "source": [
    "print(df.matricula.nunique())\n",
    "print(df.matricula.count())"
   ]
  },
  {
   "cell_type": "code",
   "execution_count": 90,
   "metadata": {},
   "outputs": [
    {
     "data": {
      "text/plain": [
       "24929"
      ]
     },
     "execution_count": 90,
     "metadata": {},
     "output_type": "execute_result"
    }
   ],
   "source": [
    "df.matricula.count()"
   ]
  },
  {
   "cell_type": "code",
   "execution_count": 91,
   "metadata": {},
   "outputs": [
    {
     "data": {
      "text/plain": [
       "ASSISTENTE PARLAMENTAR                                                             5768\n",
       "TÉCNICO ADMINISTRATIVO                                                             2494\n",
       "COMISSIONADO                                                                       2113\n",
       "ASSESSOR ESPECIAL PARLAMENTAR                                                      1299\n",
       "GUARDA CIVIL METROPOLITANO                                                          997\n",
       "ASSISTENTE LEGISLATIVO III                                                          904\n",
       "COORDENADOR ESPECIAL LEGISLATIVO                                                    804\n",
       "VEREADOR                                                                            745\n",
       "ASSESSOR DE GABINETE                                                                711\n",
       "ASSESSOR ESPECIAL LEGISLATIVO                                                       675\n",
       "CHEFE DE GABINETE                                                                   667\n",
       "ASSESSOR ESPECIAL DE APOIO PARLAMENTAR                                              652\n",
       "ASSESSOR DE APOIO PARLAMENTAR                                                       529\n",
       "ASSESSOR ESPECIAL DE GABINETE                                                       511\n",
       "PROCURADOR LEGISLATIVO                                                              447\n",
       "COORDENADOR ESPECIAL DE GABINETE                                                    427\n",
       "ASSESSOR  PARLAMENTAR                                                               397\n",
       "MOTORISTA                                                                           278\n",
       "CONSULTOR TÉCNICO LEGISLATIVO - INFORMÁTICA                                         264\n",
       "CONSULTOR TÉCNICO LEGISLATIVO - CONTADOR                                            260\n",
       "POLICIAL MILITAR                                                                    234\n",
       "COORDENADOR DE LIDERANÇA                                                            223\n",
       "TÉCNICO ADMINISTRATIVO - INFORMÁTICA                                                168\n",
       "AUXILIAR OPERACIONAL                                                                156\n",
       "CONSULTOR TÉCNICO LEGISLATIVO - BIBLIOTECONOMIA                                     144\n",
       "CONSULTOR TÉCNICO LEGISLATIVO - ECONOMIA                                            132\n",
       "CONSULTOR TÉCNICO LEGISLATIVO - REGISTRO E REVISÃO                                  131\n",
       "GARÇOM                                                                              125\n",
       "TÉCNICO ADMINISTRATIVO - ELETRÔNICA                                                 108\n",
       "TÉCNICO ADMINISTRATIVO - CONTABILIDADE                                              107\n",
       "                                                                                   ... \n",
       "ENGRAXATE*                                                                           12\n",
       "CONSULTOR TÉCNICO LEGISLATIVO - ENGENHARIA MECATRÔNICA                               12\n",
       "CHEFE DE GABINETE DA PRESIDÊNCIA                                                     12\n",
       "PEDREIRO                                                                             12\n",
       "ENCANADOR                                                                            12\n",
       "AUXILIAR DE ENFERMAGEM                                                               12\n",
       "CLASSIFICADOR DE PERIÓDICOS*                                                         12\n",
       "ASSESSOR DE IMPRENSA DA PRESIDÊNCIA                                                  12\n",
       "TÉCNICO DE AR CONDICIONADO                                                           12\n",
       "CONSULTOR TÉCNICO LEGISLATIVO - MEDICINA (CLÍNICA GERAL E MEDICINA DO TRABALHO)      12\n",
       "MECÂNICO DE REFRIGERAÇÃO                                                             12\n",
       "CHEFE DE CERIMONIAL                                                                  12\n",
       "OUVIDOR ADJUNTO                                                                      12\n",
       "CONSULTOR TÉCNICO LEGISLATIVO - MEDICINA (GINECOLOGIA E OBSTETRÍCIA)                 12\n",
       "TÉCNICO EM RADIOFONIA                                                                12\n",
       "OPERADOR DE MÁQUINA COPIADORA                                                        12\n",
       "ENFERMEIRA                                                                           12\n",
       "ASSESSOR CONTABIL                                                                    12\n",
       "GARAGISTA                                                                            12\n",
       "SUBENCARREGADO DE SETOR (GARAGEM)                                                    12\n",
       "cargo                                                                                11\n",
       "OPERADOR DE COMPUTADOR                                                               10\n",
       "SUBDIRETOR DE COMUNICAÇÃO EXTERNA                                                    10\n",
       "DIRETOR EXECUTIVO - TV CÂMARA SÃO PAULO                                              10\n",
       "MÉDICO CHEFE DE SUBDIVISÃO                                                            9\n",
       "DIRETOR PRESIDENTE                                                                    9\n",
       "ASSESSOR DE COMUNICAÇÃO EXTERNA II                                                    7\n",
       "DIRETOR ACADÊMICO                                                                     7\n",
       "MÉDICO                                                                                2\n",
       "CONSULTOR TÉCNICO LEGISLATIVO - PEDAGOGIA                                             1\n",
       "Name: cargo, Length: 119, dtype: int64"
      ]
     },
     "execution_count": 91,
     "metadata": {},
     "output_type": "execute_result"
    }
   ],
   "source": [
    "df.cargo.value_counts()"
   ]
  },
  {
   "cell_type": "code",
   "execution_count": 92,
   "metadata": {},
   "outputs": [],
   "source": [
    "# plt.hist(df.salario)\n",
    "# plt.show()"
   ]
  },
  {
   "cell_type": "code",
   "execution_count": 93,
   "metadata": {},
   "outputs": [
    {
     "data": {
      "text/plain": [
       "1      2398\n",
       "12     2108\n",
       "6      2061\n",
       "2      2051\n",
       "3      2051\n",
       "9      2042\n",
       "8      2042\n",
       "10     2040\n",
       "7      2038\n",
       "5      2034\n",
       "11     2032\n",
       "4      2025\n",
       "mes      11\n",
       "Name: mes, dtype: int64"
      ]
     },
     "execution_count": 93,
     "metadata": {},
     "output_type": "execute_result"
    }
   ],
   "source": [
    "df.mes.value_counts()"
   ]
  },
  {
   "cell_type": "code",
   "execution_count": 94,
   "metadata": {},
   "outputs": [
    {
     "data": {
      "text/plain": [
       "setor        object\n",
       "matricula    object\n",
       "cargo        object\n",
       "funcao       object\n",
       "salario      object\n",
       "mes          object\n",
       "dtype: object"
      ]
     },
     "execution_count": 94,
     "metadata": {},
     "output_type": "execute_result"
    }
   ],
   "source": [
    "df.dtypes"
   ]
  },
  {
   "cell_type": "code",
   "execution_count": 95,
   "metadata": {},
   "outputs": [
    {
     "data": {
      "text/plain": [
       "-                                          1800\n",
       "VEREADOR                                    745\n",
       "CHEFE DE GABINETE                           667\n",
       "SUPERVISOR DE EQUIPE                        588\n",
       "COORDENADOR DE LIDERANÇA                    223\n",
       "SUPERVISOR DE UNIDADE ADMINISTRATIVA        169\n",
       "ASSISTENTE DE IMPRENSA                      150\n",
       "SECRETÁRIO                                   88\n",
       "VEREADOR - SUPLENTE                          70\n",
       "PROCURADOR LEGISLATIVO SUPERVISOR            60\n",
       "SUPERVISOR DE NÚCLEO TÉCNICO                 36\n",
       "AUXILIAR DE OUVIDORIA                        26\n",
       "COORDENADOR DE CENTRO                        24\n",
       "OUVIDOR                                      13\n",
       "SECRETÁRIO PARLAMENTAR ADJUNTO               12\n",
       "CHEFE DE CERIMONIAL                          12\n",
       "SECRETÁRIO GERAL PARLAMENTAR                 12\n",
       "SECRETÁRIO GERAL ADMINISTRATIVO              12\n",
       "CHEFE DE GABINETE DA PRESIDÊNCIA             12\n",
       "CONSULTOR GERAL DE ECONOMIA E ORÇAMENTO      12\n",
       "COORDENADOR                                  12\n",
       "OUVIDOR ADJUNTO                              12\n",
       "PROCURADOR LEGISLATIVO CHEFE                 12\n",
       "DIRETOR ACADÊMICO                            12\n",
       "SECRETÁRIO ADMINISTRATIVO ADJUNTO            11\n",
       "funcao                                       11\n",
       "DIRETOR EXECUTIVO                             9\n",
       "DIRETOR PRESIDENTE                            9\n",
       "COORDENADOR DA ESCOLA DO PARLAMENTO           1\n",
       "Name: funcao, dtype: int64"
      ]
     },
     "execution_count": 95,
     "metadata": {},
     "output_type": "execute_result"
    }
   ],
   "source": [
    "df.funcao.value_counts()"
   ]
  },
  {
   "cell_type": "code",
   "execution_count": 96,
   "metadata": {},
   "outputs": [
    {
     "data": {
      "text/html": [
       "<div>\n",
       "<style scoped>\n",
       "    .dataframe tbody tr th:only-of-type {\n",
       "        vertical-align: middle;\n",
       "    }\n",
       "\n",
       "    .dataframe tbody tr th {\n",
       "        vertical-align: top;\n",
       "    }\n",
       "\n",
       "    .dataframe thead th {\n",
       "        text-align: right;\n",
       "    }\n",
       "</style>\n",
       "<table border=\"1\" class=\"dataframe\">\n",
       "  <thead>\n",
       "    <tr style=\"text-align: right;\">\n",
       "      <th></th>\n",
       "      <th>setor</th>\n",
       "      <th>matricula</th>\n",
       "      <th>cargo</th>\n",
       "      <th>funcao</th>\n",
       "      <th>salario</th>\n",
       "      <th>mes</th>\n",
       "    </tr>\n",
       "  </thead>\n",
       "  <tbody>\n",
       "    <tr>\n",
       "      <th>NaN</th>\n",
       "      <td>setor</td>\n",
       "      <td>matricula</td>\n",
       "      <td>cargo</td>\n",
       "      <td>funcao</td>\n",
       "      <td>salario</td>\n",
       "      <td>mes</td>\n",
       "    </tr>\n",
       "    <tr>\n",
       "      <th>NaN</th>\n",
       "      <td>setor</td>\n",
       "      <td>matricula</td>\n",
       "      <td>cargo</td>\n",
       "      <td>funcao</td>\n",
       "      <td>salario</td>\n",
       "      <td>mes</td>\n",
       "    </tr>\n",
       "    <tr>\n",
       "      <th>NaN</th>\n",
       "      <td>setor</td>\n",
       "      <td>matricula</td>\n",
       "      <td>cargo</td>\n",
       "      <td>funcao</td>\n",
       "      <td>salario</td>\n",
       "      <td>mes</td>\n",
       "    </tr>\n",
       "    <tr>\n",
       "      <th>NaN</th>\n",
       "      <td>setor</td>\n",
       "      <td>matricula</td>\n",
       "      <td>cargo</td>\n",
       "      <td>funcao</td>\n",
       "      <td>salario</td>\n",
       "      <td>mes</td>\n",
       "    </tr>\n",
       "    <tr>\n",
       "      <th>NaN</th>\n",
       "      <td>setor</td>\n",
       "      <td>matricula</td>\n",
       "      <td>cargo</td>\n",
       "      <td>funcao</td>\n",
       "      <td>salario</td>\n",
       "      <td>mes</td>\n",
       "    </tr>\n",
       "    <tr>\n",
       "      <th>NaN</th>\n",
       "      <td>setor</td>\n",
       "      <td>matricula</td>\n",
       "      <td>cargo</td>\n",
       "      <td>funcao</td>\n",
       "      <td>salario</td>\n",
       "      <td>mes</td>\n",
       "    </tr>\n",
       "    <tr>\n",
       "      <th>NaN</th>\n",
       "      <td>setor</td>\n",
       "      <td>matricula</td>\n",
       "      <td>cargo</td>\n",
       "      <td>funcao</td>\n",
       "      <td>salario</td>\n",
       "      <td>mes</td>\n",
       "    </tr>\n",
       "    <tr>\n",
       "      <th>NaN</th>\n",
       "      <td>setor</td>\n",
       "      <td>matricula</td>\n",
       "      <td>cargo</td>\n",
       "      <td>funcao</td>\n",
       "      <td>salario</td>\n",
       "      <td>mes</td>\n",
       "    </tr>\n",
       "    <tr>\n",
       "      <th>NaN</th>\n",
       "      <td>setor</td>\n",
       "      <td>matricula</td>\n",
       "      <td>cargo</td>\n",
       "      <td>funcao</td>\n",
       "      <td>salario</td>\n",
       "      <td>mes</td>\n",
       "    </tr>\n",
       "    <tr>\n",
       "      <th>NaN</th>\n",
       "      <td>setor</td>\n",
       "      <td>matricula</td>\n",
       "      <td>cargo</td>\n",
       "      <td>funcao</td>\n",
       "      <td>salario</td>\n",
       "      <td>mes</td>\n",
       "    </tr>\n",
       "    <tr>\n",
       "      <th>NaN</th>\n",
       "      <td>setor</td>\n",
       "      <td>matricula</td>\n",
       "      <td>cargo</td>\n",
       "      <td>funcao</td>\n",
       "      <td>salario</td>\n",
       "      <td>mes</td>\n",
       "    </tr>\n",
       "  </tbody>\n",
       "</table>\n",
       "</div>"
      ],
      "text/plain": [
       "     setor  matricula  cargo  funcao  salario  mes\n",
       "NaN  setor  matricula  cargo  funcao  salario  mes\n",
       "NaN  setor  matricula  cargo  funcao  salario  mes\n",
       "NaN  setor  matricula  cargo  funcao  salario  mes\n",
       "NaN  setor  matricula  cargo  funcao  salario  mes\n",
       "NaN  setor  matricula  cargo  funcao  salario  mes\n",
       "NaN  setor  matricula  cargo  funcao  salario  mes\n",
       "NaN  setor  matricula  cargo  funcao  salario  mes\n",
       "NaN  setor  matricula  cargo  funcao  salario  mes\n",
       "NaN  setor  matricula  cargo  funcao  salario  mes\n",
       "NaN  setor  matricula  cargo  funcao  salario  mes\n",
       "NaN  setor  matricula  cargo  funcao  salario  mes"
      ]
     },
     "execution_count": 96,
     "metadata": {},
     "output_type": "execute_result"
    }
   ],
   "source": [
    "df[df.mes == 'mes']"
   ]
  },
  {
   "cell_type": "code",
   "execution_count": 97,
   "metadata": {},
   "outputs": [
    {
     "data": {
      "text/plain": [
       "Float64Index([nan, nan, nan, nan, nan, nan, nan, nan, nan, nan, nan], dtype='float64')"
      ]
     },
     "execution_count": 97,
     "metadata": {},
     "output_type": "execute_result"
    }
   ],
   "source": [
    "df[df.mes == 'mes'].index"
   ]
  },
  {
   "cell_type": "code",
   "execution_count": 98,
   "metadata": {},
   "outputs": [],
   "source": [
    "df.drop(df[df.mes == 'mes'].index, inplace=True)"
   ]
  },
  {
   "cell_type": "code",
   "execution_count": 99,
   "metadata": {},
   "outputs": [
    {
     "data": {
      "text/plain": [
       "Float64Index([], dtype='float64')"
      ]
     },
     "execution_count": 99,
     "metadata": {},
     "output_type": "execute_result"
    }
   ],
   "source": [
    "df[df.mes == 'mes'].index"
   ]
  },
  {
   "cell_type": "code",
   "execution_count": 100,
   "metadata": {},
   "outputs": [
    {
     "data": {
      "text/html": [
       "<div>\n",
       "<style scoped>\n",
       "    .dataframe tbody tr th:only-of-type {\n",
       "        vertical-align: middle;\n",
       "    }\n",
       "\n",
       "    .dataframe tbody tr th {\n",
       "        vertical-align: top;\n",
       "    }\n",
       "\n",
       "    .dataframe thead th {\n",
       "        text-align: right;\n",
       "    }\n",
       "</style>\n",
       "<table border=\"1\" class=\"dataframe\">\n",
       "  <thead>\n",
       "    <tr style=\"text-align: right;\">\n",
       "      <th></th>\n",
       "      <th>setor</th>\n",
       "      <th>matricula</th>\n",
       "      <th>cargo</th>\n",
       "      <th>funcao</th>\n",
       "      <th>salario</th>\n",
       "      <th>mes</th>\n",
       "    </tr>\n",
       "  </thead>\n",
       "  <tbody>\n",
       "    <tr>\n",
       "      <th>count</th>\n",
       "      <td>24922</td>\n",
       "      <td>24918</td>\n",
       "      <td>24837</td>\n",
       "      <td>4809</td>\n",
       "      <td>24922</td>\n",
       "      <td>24922</td>\n",
       "    </tr>\n",
       "    <tr>\n",
       "      <th>unique</th>\n",
       "      <td>232</td>\n",
       "      <td>2879</td>\n",
       "      <td>118</td>\n",
       "      <td>28</td>\n",
       "      <td>10215</td>\n",
       "      <td>12</td>\n",
       "    </tr>\n",
       "    <tr>\n",
       "      <th>top</th>\n",
       "      <td>GUARDA CIVIL METROPOLITANA</td>\n",
       "      <td>ausência de divulgação em razão de determinaçã...</td>\n",
       "      <td>ASSISTENTE PARLAMENTAR</td>\n",
       "      <td>-</td>\n",
       "      <td>7235.87</td>\n",
       "      <td>1</td>\n",
       "    </tr>\n",
       "    <tr>\n",
       "      <th>freq</th>\n",
       "      <td>997</td>\n",
       "      <td>77</td>\n",
       "      <td>5768</td>\n",
       "      <td>1800</td>\n",
       "      <td>411</td>\n",
       "      <td>2398</td>\n",
       "    </tr>\n",
       "  </tbody>\n",
       "</table>\n",
       "</div>"
      ],
      "text/plain": [
       "                             setor  \\\n",
       "count                        24922   \n",
       "unique                         232   \n",
       "top     GUARDA CIVIL METROPOLITANA   \n",
       "freq                           997   \n",
       "\n",
       "                                                matricula  \\\n",
       "count                                               24918   \n",
       "unique                                               2879   \n",
       "top     ausência de divulgação em razão de determinaçã...   \n",
       "freq                                                   77   \n",
       "\n",
       "                         cargo funcao  salario    mes  \n",
       "count                    24837   4809    24922  24922  \n",
       "unique                     118     28    10215     12  \n",
       "top     ASSISTENTE PARLAMENTAR      -  7235.87      1  \n",
       "freq                      5768   1800      411   2398  "
      ]
     },
     "execution_count": 100,
     "metadata": {},
     "output_type": "execute_result"
    }
   ],
   "source": [
    "df.describe()"
   ]
  },
  {
   "cell_type": "code",
   "execution_count": 108,
   "metadata": {},
   "outputs": [],
   "source": [
    "df.matricula.fillna('0', inplace=True)\n",
    "\n",
    "assert not df.matricula.isna().any()"
   ]
  },
  {
   "cell_type": "code",
   "execution_count": 115,
   "metadata": {},
   "outputs": [
    {
     "name": "stdout",
     "output_type": "stream",
     "text": [
      "setor        23610\n",
      "matricula    23610\n",
      "cargo        23606\n",
      "funcao        4691\n",
      "salario      23610\n",
      "mes          23610\n",
      "dtype: int64\n",
      "setor        1312\n",
      "matricula    1312\n",
      "cargo        1231\n",
      "funcao        118\n",
      "salario      1312\n",
      "mes          1312\n",
      "dtype: int64\n"
     ]
    }
   ],
   "source": [
    "print(df[df['matricula'].str.isnumeric()].count())\n",
    "\n",
    "print(df[~df['matricula'].str.isnumeric()].count())"
   ]
  },
  {
   "cell_type": "code",
   "execution_count": 74,
   "metadata": {},
   "outputs": [
    {
     "data": {
      "text/html": [
       "<div>\n",
       "<style scoped>\n",
       "    .dataframe tbody tr th:only-of-type {\n",
       "        vertical-align: middle;\n",
       "    }\n",
       "\n",
       "    .dataframe tbody tr th {\n",
       "        vertical-align: top;\n",
       "    }\n",
       "\n",
       "    .dataframe thead th {\n",
       "        text-align: right;\n",
       "    }\n",
       "</style>\n",
       "<table border=\"1\" class=\"dataframe\">\n",
       "  <thead>\n",
       "    <tr style=\"text-align: right;\">\n",
       "      <th></th>\n",
       "      <th>setor</th>\n",
       "      <th>matricula</th>\n",
       "      <th>cargo</th>\n",
       "      <th>funcao</th>\n",
       "      <th>salario</th>\n",
       "      <th>mes</th>\n",
       "    </tr>\n",
       "  </thead>\n",
       "  <tbody>\n",
       "    <tr>\n",
       "      <th>311.0</th>\n",
       "      <td>06º GABINETE DE VEREADOR</td>\n",
       "      <td>0</td>\n",
       "      <td>ASSISTENTE PARLAMENTAR</td>\n",
       "      <td>NaN</td>\n",
       "      <td>0.0</td>\n",
       "      <td>1</td>\n",
       "    </tr>\n",
       "    <tr>\n",
       "      <th>1106.0</th>\n",
       "      <td>53º GABINETE DE VEREADOR</td>\n",
       "      <td>0</td>\n",
       "      <td>CHEFE DE GABINETE</td>\n",
       "      <td>CHEFE DE GABINETE</td>\n",
       "      <td>5823.37</td>\n",
       "      <td>7</td>\n",
       "    </tr>\n",
       "    <tr>\n",
       "      <th>1108.0</th>\n",
       "      <td>53º GABINETE DE VEREADOR</td>\n",
       "      <td>0</td>\n",
       "      <td>ASSESSOR ESPECIAL PARLAMENTAR</td>\n",
       "      <td>NaN</td>\n",
       "      <td>2802.95</td>\n",
       "      <td>7</td>\n",
       "    </tr>\n",
       "    <tr>\n",
       "      <th>308.0</th>\n",
       "      <td>08º GABINETE DE VEREADOR</td>\n",
       "      <td>0</td>\n",
       "      <td>ASSESSOR ESPECIAL LEGISLATIVO</td>\n",
       "      <td>NaN</td>\n",
       "      <td>2.92</td>\n",
       "      <td>10</td>\n",
       "    </tr>\n",
       "  </tbody>\n",
       "</table>\n",
       "</div>"
      ],
      "text/plain": [
       "                           setor matricula                          cargo  \\\n",
       "311.0   06º GABINETE DE VEREADOR         0         ASSISTENTE PARLAMENTAR   \n",
       "1106.0  53º GABINETE DE VEREADOR         0              CHEFE DE GABINETE   \n",
       "1108.0  53º GABINETE DE VEREADOR         0  ASSESSOR ESPECIAL PARLAMENTAR   \n",
       "308.0   08º GABINETE DE VEREADOR         0  ASSESSOR ESPECIAL LEGISLATIVO   \n",
       "\n",
       "                   funcao  salario mes  \n",
       "311.0                 NaN      0.0   1  \n",
       "1106.0  CHEFE DE GABINETE  5823.37   7  \n",
       "1108.0                NaN  2802.95   7  \n",
       "308.0                 NaN     2.92  10  "
      ]
     },
     "execution_count": 74,
     "metadata": {},
     "output_type": "execute_result"
    }
   ],
   "source": [
    "# mask[mask.isna()]\n",
    "df[mask.isna()]"
   ]
  },
  {
   "cell_type": "code",
   "execution_count": 30,
   "metadata": {},
   "outputs": [
    {
     "data": {
      "text/html": [
       "<div>\n",
       "<style scoped>\n",
       "    .dataframe tbody tr th:only-of-type {\n",
       "        vertical-align: middle;\n",
       "    }\n",
       "\n",
       "    .dataframe tbody tr th {\n",
       "        vertical-align: top;\n",
       "    }\n",
       "\n",
       "    .dataframe thead th {\n",
       "        text-align: right;\n",
       "    }\n",
       "</style>\n",
       "<table border=\"1\" class=\"dataframe\">\n",
       "  <thead>\n",
       "    <tr style=\"text-align: right;\">\n",
       "      <th></th>\n",
       "      <th>setor</th>\n",
       "      <th>matricula</th>\n",
       "      <th>cargo</th>\n",
       "      <th>funcao</th>\n",
       "      <th>salario</th>\n",
       "      <th>mes</th>\n",
       "    </tr>\n",
       "  </thead>\n",
       "  <tbody>\n",
       "  </tbody>\n",
       "</table>\n",
       "</div>"
      ],
      "text/plain": [
       "Empty DataFrame\n",
       "Columns: [setor, matricula, cargo, funcao, salario, mes]\n",
       "Index: []"
      ]
     },
     "execution_count": 30,
     "metadata": {},
     "output_type": "execute_result"
    }
   ],
   "source": [
    "df[df['salario'].isna()]"
   ]
  },
  {
   "cell_type": "code",
   "execution_count": 32,
   "metadata": {},
   "outputs": [
    {
     "data": {
      "text/html": [
       "<div>\n",
       "<style scoped>\n",
       "    .dataframe tbody tr th:only-of-type {\n",
       "        vertical-align: middle;\n",
       "    }\n",
       "\n",
       "    .dataframe tbody tr th {\n",
       "        vertical-align: top;\n",
       "    }\n",
       "\n",
       "    .dataframe thead th {\n",
       "        text-align: right;\n",
       "    }\n",
       "</style>\n",
       "<table border=\"1\" class=\"dataframe\">\n",
       "  <thead>\n",
       "    <tr style=\"text-align: right;\">\n",
       "      <th></th>\n",
       "      <th>setor</th>\n",
       "      <th>matricula</th>\n",
       "      <th>cargo</th>\n",
       "      <th>funcao</th>\n",
       "      <th>salario</th>\n",
       "      <th>mes</th>\n",
       "    </tr>\n",
       "  </thead>\n",
       "  <tbody>\n",
       "  </tbody>\n",
       "</table>\n",
       "</div>"
      ],
      "text/plain": [
       "Empty DataFrame\n",
       "Columns: [setor, matricula, cargo, funcao, salario, mes]\n",
       "Index: []"
      ]
     },
     "execution_count": 32,
     "metadata": {},
     "output_type": "execute_result"
    }
   ],
   "source": [
    "df[df['mes'].isna()]"
   ]
  },
  {
   "cell_type": "code",
   "execution_count": 33,
   "metadata": {},
   "outputs": [
    {
     "data": {
      "text/plain": [
       "1     2398\n",
       "12    2108\n",
       "6     2061\n",
       "2     2051\n",
       "3     2051\n",
       "9     2042\n",
       "8     2042\n",
       "10    2040\n",
       "7     2038\n",
       "5     2034\n",
       "11    2032\n",
       "4     2025\n",
       "Name: mes, dtype: int64"
      ]
     },
     "execution_count": 33,
     "metadata": {},
     "output_type": "execute_result"
    }
   ],
   "source": [
    "df.mes.value_counts()"
   ]
  },
  {
   "cell_type": "code",
   "execution_count": 47,
   "metadata": {},
   "outputs": [],
   "source": [
    "df.loc[df.funcao == '-', 'funcao'] = np.nan"
   ]
  },
  {
   "cell_type": "code",
   "execution_count": 48,
   "metadata": {},
   "outputs": [
    {
     "data": {
      "text/html": [
       "<div>\n",
       "<style scoped>\n",
       "    .dataframe tbody tr th:only-of-type {\n",
       "        vertical-align: middle;\n",
       "    }\n",
       "\n",
       "    .dataframe tbody tr th {\n",
       "        vertical-align: top;\n",
       "    }\n",
       "\n",
       "    .dataframe thead th {\n",
       "        text-align: right;\n",
       "    }\n",
       "</style>\n",
       "<table border=\"1\" class=\"dataframe\">\n",
       "  <thead>\n",
       "    <tr style=\"text-align: right;\">\n",
       "      <th></th>\n",
       "      <th>setor</th>\n",
       "      <th>matricula</th>\n",
       "      <th>cargo</th>\n",
       "      <th>funcao</th>\n",
       "      <th>salario</th>\n",
       "      <th>mes</th>\n",
       "    </tr>\n",
       "  </thead>\n",
       "  <tbody>\n",
       "  </tbody>\n",
       "</table>\n",
       "</div>"
      ],
      "text/plain": [
       "Empty DataFrame\n",
       "Columns: [setor, matricula, cargo, funcao, salario, mes]\n",
       "Index: []"
      ]
     },
     "execution_count": 48,
     "metadata": {},
     "output_type": "execute_result"
    }
   ],
   "source": [
    "df[df['funcao'] == '-']"
   ]
  },
  {
   "cell_type": "code",
   "execution_count": null,
   "metadata": {},
   "outputs": [],
   "source": []
  }
 ],
 "metadata": {
  "kernelspec": {
   "display_name": "Python 3",
   "language": "python",
   "name": "python3"
  },
  "language_info": {
   "codemirror_mode": {
    "name": "ipython",
    "version": 3
   },
   "file_extension": ".py",
   "mimetype": "text/x-python",
   "name": "python",
   "nbconvert_exporter": "python",
   "pygments_lexer": "ipython3",
   "version": "3.6.4"
  }
 },
 "nbformat": 4,
 "nbformat_minor": 2
}
